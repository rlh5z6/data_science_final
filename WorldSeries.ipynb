{
 "cells": [
  {
   "cell_type": "code",
   "execution_count": 19,
   "metadata": {
    "collapsed": false
   },
   "outputs": [
    {
     "name": "stdout",
     "output_type": "stream",
     "text": [
      "Database version : 5.5.47-MariaDB \n"
     ]
    }
   ],
   "source": [
    "#!/usr/bin/python\n",
    "# -*- coding: utf-8 -*-\n",
    "\n",
    "import MySQLdb as mdb\n",
    "import sys\n",
    "\n",
    "try:\n",
    "    con = mdb.connect('128.206.116.195', 'tg4_ro', '?3stEt7!3hUbRa-R', 'tw4_db');\n",
    "\n",
    "    cur = con.cursor()\n",
    "    cur.execute(\"SELECT VERSION()\")\n",
    "\n",
    "    ver = cur.fetchone()\n",
    "\n",
    "    print (\"Database version : %s \" % ver)\n",
    "\n",
    "except mdb.Error as e:\n",
    "\n",
    "    print (\"Error %d: %s\" % (e.args[0],e.args[1]))\n",
    "    sys.exit(1)\n",
    "\n",
    "finally:\n",
    "\n",
    "    if con:\n",
    "        con.close()"
   ]
  },
  {
   "cell_type": "code",
   "execution_count": 44,
   "metadata": {
    "collapsed": true
   },
   "outputs": [],
   "source": [
    "import csv\n",
    "import pandas as pd\n",
    "from collections import Counter\n",
    "\n",
    "try:\n",
    "    con = mdb.connect('128.206.116.195', 'tg4_ro', '?3stEt7!3hUbRa-R', 'tw4_db');\n",
    "\n",
    "    #All tweets pertaining to #WorldSeries\n",
    "    df = pd.read_sql_query(\"SELECT t.text, t.created_at, MONTH(created_at) AS theMonth, WEEK(created_at) AS theWeek, DAY(created_at) AS theDay, YEAR(created_at) AS theYear FROM tweet t WHERE job_id=2577\", con)\n",
    "\n",
    "    #Tweets specific to top 5 players\n",
    "    df1 = pd.read_sql_query(\"SELECT MONTH(created_at) AS theMonth, WEEK(created_at) AS theWeek, DAY(created_at) AS theDay, YEAR(created_at) AS theYear, HOUR(created_at) AS theHour, text FROM tweet WHERE job_id = 2577 AND LOWER(text) LIKE '%murphy%'\", con)\n",
    "    df2 = pd.read_sql_query(\"SELECT MONTH(created_at) AS theMonth, WEEK(created_at) AS theWeek, DAY(created_at) AS theDay, YEAR(created_at) AS theYear, HOUR(created_at) AS theHour, text FROM tweet WHERE job_id = 2577 AND LOWER(text) LIKE '%bumgarner%'\", con)\n",
    "    df3 = pd.read_sql_query(\"SELECT MONTH(created_at) AS theMonth, WEEK(created_at) AS theWeek, DAY(created_at) AS theDay, YEAR(created_at) AS theYear, HOUR(created_at) AS theHour, text FROM tweet WHERE job_id = 2577 AND LOWER(text) LIKE '%pence%'\", con)\n",
    "    df4 = pd.read_sql_query(\"SELECT MONTH(created_at) AS theMonth, WEEK(created_at) AS theWeek, DAY(created_at) AS theDay, YEAR(created_at) AS theYear, HOUR(created_at) AS theHour, text FROM tweet WHERE job_id = 2577 AND LOWER(text) LIKE '%volquez%'\", con)\n",
    "    df5 = pd.read_sql_query(\"SELECT MONTH(created_at) AS theMonth, WEEK(created_at) AS theWeek, DAY(created_at) AS theDay, YEAR(created_at) AS theYear, HOUR(created_at) AS theHour, text FROM tweet WHERE job_id = 2577 AND LOWER(text) LIKE '%wright%'\", con)\n",
    "\n",
    "    \n",
    "except mdb.Error as e:\n",
    "\n",
    "    print (\"Error %d: %s\" % (e.args[0],e.args[1]))\n",
    "    sys.exit(1)\n",
    "\n",
    "finally:\n",
    "\n",
    "    if con:\n",
    "        con.close()"
   ]
  },
  {
   "cell_type": "code",
   "execution_count": null,
   "metadata": {
    "collapsed": false
   },
   "outputs": [],
   "source": [
    "from collections import Counter\n",
    "from operator import itemgetter\n",
    "\n",
    "#Find the top words found in the tweets\n",
    "words = Counter()\n",
    "for index, row in df.iterrows():\n",
    "    words.update(row['text'].split())\n",
    "words.most_common()\n",
    "\n",
    "#Find the top hashtags found in the tweets\n",
    "dict(words)\n",
    "hashdict = dict()\n",
    "for key,value in words.items():\n",
    "    if key.startswith('#'):\n",
    "            hashdict.update({key:value})\n",
    "print(hashdict)\n",
    "\n",
    "for key, value in sorted(hashdict.items(), key=itemgetter(1), reverse=True):\n",
    "    print(key, value)\n",
    "    \n",
    "#Find the top mentions found in the tweets\n",
    "dict(words)\n",
    "mentionsdict = dict()\n",
    "for key,value in words.items():\n",
    "    if key.startswith('@'):\n",
    "            mentionsdict.update({key:value})\n",
    "print(mentionsdict)\n",
    "\n",
    "for key, value in sorted(mentionsdict.items(), key=itemgetter(1), reverse=True):\n",
    "    print(key, value)"
   ]
  },
  {
   "cell_type": "code",
   "execution_count": null,
   "metadata": {
    "collapsed": true
   },
   "outputs": [],
   "source": []
  }
 ],
 "metadata": {
  "kernelspec": {
   "display_name": "Python 3",
   "language": "python",
   "name": "python3"
  },
  "language_info": {
   "codemirror_mode": {
    "name": "ipython",
    "version": 3
   },
   "file_extension": ".py",
   "mimetype": "text/x-python",
   "name": "python",
   "nbconvert_exporter": "python",
   "pygments_lexer": "ipython3",
   "version": "3.4.3"
  }
 },
 "nbformat": 4,
 "nbformat_minor": 0
}
